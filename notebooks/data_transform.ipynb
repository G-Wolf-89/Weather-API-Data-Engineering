{
 "cells": [
  {
   "cell_type": "code",
   "execution_count": 482,
   "metadata": {},
   "outputs": [],
   "source": [
    "import pandas as pd\n",
    "import numpy as np\n",
    "import matplotlib.pyplot as plt\n",
    "import seaborn as sns   \n",
    "import datetime"
   ]
  },
  {
   "cell_type": "code",
   "execution_count": 483,
   "metadata": {},
   "outputs": [],
   "source": [
    "df = pd.read_csv(\"~/Desktop/Weather-API-DATA-Engineering/data/csv/weather_api.csv\")\n",
    "\n",
    "\n",
    "\n"
   ]
  },
  {
   "cell_type": "code",
   "execution_count": 506,
   "metadata": {},
   "outputs": [],
   "source": [
    "#monthly medians on temperature, relative humidity, precipitation, and surface pressure for all available months\n",
    "\n",
    "df['date'] = pd.to_datetime(df['time'])\n",
    "df['year_month'] = df['date'].dt.to_period('M')\n",
    "\n",
    "monthly_medians = df.groupby('year_month')[[\n",
    "    'temperature_2m', \n",
    "    'relative_humidity_2m', \n",
    "    'precipitation', \n",
    "    'surface_pressure'\n",
    "]].median()\n",
    "\n",
    "monthly_medians.to_csv('~/Desktop/Weather-API-DATA-Engineering/data/csv/Monthly_median.csv',index = True)    \n",
    "\n"
   ]
  },
  {
   "cell_type": "code",
   "execution_count": 507,
   "metadata": {},
   "outputs": [],
   "source": [
    "#yearly medians on temperature, relative humidity, precipitation, and surface pressure for all available years\n",
    "df['date'] = pd.to_datetime(df['time'])\n",
    "df['year'] = df['date'].dt.to_period('Y')\n",
    "yearly_medians = df.groupby('year')[[\n",
    "    'temperature_2m', \n",
    "    'relative_humidity_2m', \n",
    "    'precipitation', \n",
    "    'surface_pressure'\n",
    "]].median()\n",
    "\n",
    "yearly_medians.to_csv('~/Desktop/Weather-API-DATA-Engineering/data/csv/Yearly_median.csv',index = True)\n",
    "\n",
    "\n"
   ]
  },
  {
   "cell_type": "code",
   "execution_count": 509,
   "metadata": {},
   "outputs": [],
   "source": [
    "#yearly medians on temperature, relative humidity, precipitation, and surface pressure for all available years along with harvest data \n",
    "# (million_60kgs_bag, nonbear_mill_trees, bear_mill_trees, avg_unemp_perc) for each respective year present for Minas Gerais\n",
    "df_br = pd.read_csv(\"~/Desktop/Weather-API-DATA-Engineering/data/csv/br_final.csv\")\n",
    "\n",
    "#Dropping avg_unemp_perc column due to null data \n",
    "df_br.drop(columns=['avg_unemp_perc'], inplace=True)\n",
    "\n",
    "#We want to group by year \n",
    "df_br[\"date\"] = pd.to_datetime(df_br['year']).dt.year\n",
    "\n",
    "\n",
    "\n",
    "#all available years along with harvest data (million_60kgs_bag, nonbear_mill_trees, bear_mill_trees, avg_unemp_perc) for each respective year present for Minas Gerais\n",
    "ds_mg = df_br[df_br['subdivision'] == 'Minas Gerais']\n",
    "yearly_combined = ds_mg.groupby('year')[[\n",
    "    \n",
    "    'million_60kgs_bag', \n",
    "    'nonbear_mill_trees', \n",
    "    'bear_mill_trees', \n",
    "    \n",
    "]].median()\n",
    "\n"
   ]
  },
  {
   "cell_type": "code",
   "execution_count": 510,
   "metadata": {},
   "outputs": [],
   "source": [
    "# yearly medians on temperature, relative humidity, precipitation, and surface pressure for all available years along with harvest data \n",
    "# (million_60kgs_bag, nonbear_mill_trees, bear_mill_trees, avg_unemp_perc) for each respective year present for Minas Gerais\n",
    "#(Continued)\n",
    "\n",
    "\n",
    "#Reading weather_api.csv for previous data of yearly medians on temperature, relative humidity, precipitation, and surface pressure \n",
    "df = pd.read_csv(\"~/Desktop/Weather-API-DATA-Engineering/data/csv/weather_api.csv\")\n",
    "df.dropna(inplace=True)\n",
    "\n",
    "\n",
    "# Convert the 'time' column to datetime and then extract the year as Period type\n",
    "df['date'] = pd.to_datetime(df['time'])\n",
    "df['year'] = df['date'].dt.year\n",
    "\n",
    "yearly_medians = df.groupby('year')[[\n",
    "    \n",
    "    'temperature_2m', \n",
    "    'relative_humidity_2m', \n",
    "    'precipitation', \n",
    "    'surface_pressure'\n",
    "]].median()\n",
    "\n"
   ]
  },
  {
   "cell_type": "code",
   "execution_count": 512,
   "metadata": {},
   "outputs": [],
   "source": [
    "#Combine both database and pull info for each respective year present for Minas Gerais \n",
    "final_median = pd.merge(left = yearly_medians, right= yearly_combined, on= 'year')\n",
    "final_median['subdivision'] = 'Minas Gerais'\n",
    "\n",
    "\n",
    "#Save to CSV\n",
    "final_median.to_csv('~/Desktop/Weather-API-DATA-Engineering/data/csv/Yearly_combined.csv',index = True)\n",
    "\n",
    "\n",
    "\n",
    "\n",
    "\n",
    "\n"
   ]
  }
 ],
 "metadata": {
  "kernelspec": {
   "display_name": "ds",
   "language": "python",
   "name": "python3"
  },
  "language_info": {
   "codemirror_mode": {
    "name": "ipython",
    "version": 3
   },
   "file_extension": ".py",
   "mimetype": "text/x-python",
   "name": "python",
   "nbconvert_exporter": "python",
   "pygments_lexer": "ipython3",
   "version": "3.12.7"
  }
 },
 "nbformat": 4,
 "nbformat_minor": 2
}
